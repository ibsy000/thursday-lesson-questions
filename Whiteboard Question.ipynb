{
 "cells": [
  {
   "cell_type": "code",
   "execution_count": 5,
   "id": "d8ebcf35",
   "metadata": {},
   "outputs": [
    {
     "data": {
      "text/plain": [
       "'Outage'"
      ]
     },
     "execution_count": 5,
     "metadata": {},
     "output_type": "execute_result"
    }
   ],
   "source": [
    "# Whiteboard\n",
    "\n",
    "# Electric Company\n",
    "# Create a function that gives a list that represents street lights given as a parameter(l_street). \n",
    "# Determine if an outage has occurred. \n",
    "# A street with a total number of \"F\" greater than or equal to 2 returns \"Outage\", anything below returns \"Power\"\n",
    "# Example Input: [ 'T', 'F', 'F', 'F' ]\n",
    "# Example Output: \"Outage\"\n",
    "\n",
    "\n",
    "# input list that represents street lights\n",
    "\n",
    "# output total number of \"F\" >= 2 return \"outage\" else return \"power\"\n",
    "\n",
    "# \n",
    "\n",
    "\n",
    "\n",
    "def street_lights(l_street):\n",
    "    total_outages = 0\n",
    "    for light in l_street:\n",
    "        if light == 'F':\n",
    "            total_outages += 1\n",
    "            if total_outages >= 2:\n",
    "                return 'Outage'\n",
    "    return 'Power'\n",
    "\n",
    "street_lights([ 'T', 'F', 'F', 'F' ])"
   ]
  }
 ],
 "metadata": {
  "kernelspec": {
   "display_name": "Python 3 (ipykernel)",
   "language": "python",
   "name": "python3"
  },
  "language_info": {
   "codemirror_mode": {
    "name": "ipython",
    "version": 3
   },
   "file_extension": ".py",
   "mimetype": "text/x-python",
   "name": "python",
   "nbconvert_exporter": "python",
   "pygments_lexer": "ipython3",
   "version": "3.9.12"
  }
 },
 "nbformat": 4,
 "nbformat_minor": 5
}
